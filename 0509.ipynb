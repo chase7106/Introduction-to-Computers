{
  "nbformat": 4,
  "nbformat_minor": 0,
  "metadata": {
    "colab": {
      "name": "0509.ipynb",
      "provenance": [],
      "collapsed_sections": [],
      "authorship_tag": "ABX9TyOeyoARcuWO/PX3HXyt+D5+",
      "include_colab_link": true
    },
    "kernelspec": {
      "name": "python3",
      "display_name": "Python 3"
    },
    "language_info": {
      "name": "python"
    }
  },
  "cells": [
    {
      "cell_type": "markdown",
      "metadata": {
        "id": "view-in-github",
        "colab_type": "text"
      },
      "source": [
        "<a href=\"https://colab.research.google.com/github/chase7106/Introduction-to-Computers/blob/main/0509.ipynb\" target=\"_parent\"><img src=\"https://colab.research.google.com/assets/colab-badge.svg\" alt=\"Open In Colab\"/></a>"
      ]
    },
    {
      "cell_type": "code",
      "execution_count": 20,
      "metadata": {
        "colab": {
          "base_uri": "https://localhost:8080/"
        },
        "id": "DKsDJcYActjD",
        "outputId": "83376cee-97c5-4f10-8419-b5da28948f3f"
      },
      "outputs": [
        {
          "output_type": "stream",
          "name": "stdout",
          "text": [
            "請輸入你的體溫:36\n",
            "體溫異常，請重新量測!\n"
          ]
        }
      ],
      "source": [
        "temp = float(input(\"請輸入你的體溫:\"))\n",
        "if temp >= 37.5:\n",
        "  print(\"體溫過高!\")\n",
        "elif temp >= 37 and temp < 37.4:\n",
        "  print(\"體溫略高!\")\n",
        "else:\n",
        "  print(\"體溫異常，請重新量測!\")"
      ]
    },
    {
      "cell_type": "code",
      "source": [
        "score = input(\"請輸入成績:\")\n",
        "if (int(score) >= 90):\n",
        "  print(\"A\")\n",
        "elif (int(score) >= 80):\n",
        "  print(\"B\")\n",
        "elif (int(score) >= 70):\n",
        "  print(\"C\")\n",
        "elif (int(score) >= 60):\n",
        "  print(\"D\")\n",
        "else:\n",
        "  print(\"E\")"
      ],
      "metadata": {
        "colab": {
          "base_uri": "https://localhost:8080/"
        },
        "id": "JtdiosIGfNER",
        "outputId": "1bc9f4ba-6bca-4790-b47e-df2c2ef7b409"
      },
      "execution_count": 47,
      "outputs": [
        {
          "output_type": "stream",
          "name": "stdout",
          "text": [
            "請輸入成績:90\n",
            "A\n"
          ]
        }
      ]
    },
    {
      "cell_type": "code",
      "source": [
        "money = int(input(\"請輸入購物金額:\"))\n",
        "if(money >= 10000):\n",
        "  if(money >= 100000):\n",
        "    print(\"八折\",money *0.8,end = \"元\\n\")\n",
        "  elif(money >= 50000):\n",
        "    print(\"八五折\",money *0.85,end = \"元\\n\")\n",
        "  elif(money >= 30000):\n",
        "    print(\"九折\",money *0.9,end = \"元\\n\")\n",
        "  else:\n",
        "    print(\"九五折\",money *0.95,end = \"元\\n\")\n",
        "else:\n",
        "  print(\"沒打折\",money,end = \"元\\n\")"
      ],
      "metadata": {
        "colab": {
          "base_uri": "https://localhost:8080/"
        },
        "id": "L7RFREwRhyel",
        "outputId": "7fdf3981-dd75-466c-d509-8605455c1cb4"
      },
      "execution_count": 31,
      "outputs": [
        {
          "output_type": "stream",
          "name": "stdout",
          "text": [
            "請輸入購物金額:50000\n",
            "八五折 42500.0元\n"
          ]
        }
      ]
    },
    {
      "cell_type": "code",
      "source": [
        "season = int(input(\"請輸入月份:\"))\n",
        "if(season >= 3 and season <= 5):\n",
        " print(season,\"月是春天!\",sep='')\n",
        "elif(season >= 6 and season <= 8):\n",
        "  print(season,\"月是夏天!\",sep='')\n",
        "elif(season >= 9 and season <= 11):\n",
        "  print(season,\"月是秋天!\",sep='')\n",
        "elif(season >= 1 and season <= 2 or season ==12):\n",
        "  print(season,\"月是冬天!\",sep='')\n",
        "else:\n",
        "  print(\"月份不在範圍內!\")"
      ],
      "metadata": {
        "colab": {
          "base_uri": "https://localhost:8080/"
        },
        "id": "B4w5BbdIworF",
        "outputId": "e62cc0a7-b867-434d-dc58-549618049e91"
      },
      "execution_count": 81,
      "outputs": [
        {
          "output_type": "stream",
          "name": "stdout",
          "text": [
            "請輸入月份:1\n",
            "1月是冬天!\n"
          ]
        }
      ]
    },
    {
      "cell_type": "code",
      "source": [
        "revenue = int(input(\"請輸入今年收入淨額:\"))\n",
        "if(revenue >= 2000000):\n",
        "  print(\"付稅金額:\",revenue *0.3,end = \"元\\n\")\n",
        "elif(revenue >= 1000000):\n",
        "  print(\"付稅金額:\",revenue *0.21,end = \"元\\n\")\n",
        "elif(revenue >= 600000):\n",
        "  print(\"付稅金額:\",revenue *0.13,end = \"元\\n\")\n",
        "elif(revenue >= 300000):\n",
        "  print(\"付稅金額:\",revenue *0.06,end = \"元\\n\")\n",
        "else:\n",
        "  print(\"付稅金額:\",revenue *0,end = \"元\\n\")"
      ],
      "metadata": {
        "colab": {
          "base_uri": "https://localhost:8080/"
        },
        "id": "mO5gM8v9rMWr",
        "outputId": "12a79fb2-fd89-4ab4-aa98-668f9ab5257a"
      },
      "execution_count": 36,
      "outputs": [
        {
          "output_type": "stream",
          "name": "stdout",
          "text": [
            "請輸入今年收入淨額:2000000\n",
            "付稅金額: 600000.0元\n"
          ]
        }
      ]
    }
  ]
}