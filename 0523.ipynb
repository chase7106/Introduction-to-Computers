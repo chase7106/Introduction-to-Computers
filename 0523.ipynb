{
  "nbformat": 4,
  "nbformat_minor": 0,
  "metadata": {
    "colab": {
      "name": "0523.ipynb",
      "provenance": [],
      "authorship_tag": "ABX9TyPIGJQwEMt1N4UngN4oKE7c",
      "include_colab_link": true
    },
    "kernelspec": {
      "name": "python3",
      "display_name": "Python 3"
    },
    "language_info": {
      "name": "python"
    }
  },
  "cells": [
    {
      "cell_type": "markdown",
      "metadata": {
        "id": "view-in-github",
        "colab_type": "text"
      },
      "source": [
        "<a href=\"https://colab.research.google.com/github/chase7106/Introduction-to-Computers/blob/main/0523.ipynb\" target=\"_parent\"><img src=\"https://colab.research.google.com/assets/colab-badge.svg\" alt=\"Open In Colab\"/></a>"
      ]
    },
    {
      "cell_type": "code",
      "execution_count": 10,
      "metadata": {
        "colab": {
          "base_uri": "https://localhost:8080/"
        },
        "id": "Y_PZW6S7HHXi",
        "outputId": "6d83b1af-a9f6-49c9-a8d1-beb30b87a4a5"
      },
      "outputs": [
        {
          "output_type": "stream",
          "name": "stdout",
          "text": [
            "請輸入一個正整數: 50\n",
            "1到 50 的整數和為 1275\n"
          ]
        }
      ],
      "source": [
        "sum = 0\n",
        "test = int(input(\"請輸入一個正整數: \"))\n",
        "for n in range(1,test+1):\n",
        "  sum = sum+n\n",
        "print(\"1到\",test,\"的整數和為\",sum)"
      ]
    },
    {
      "cell_type": "code",
      "source": [
        "sum = 0\n",
        "test = int(input(\"請輸入一個正整數: \"))\n",
        "for m in range(1,test+1):\n",
        "  sum = sum+m\n",
        "  print(\"1到\",str(m),\"的整數和為\",sum)"
      ],
      "metadata": {
        "colab": {
          "base_uri": "https://localhost:8080/"
        },
        "id": "MyUoYixiLY70",
        "outputId": "d2491835-4e21-489f-8363-e12b75f889e5"
      },
      "execution_count": 13,
      "outputs": [
        {
          "output_type": "stream",
          "name": "stdout",
          "text": [
            "請輸入一個正整數: 50\n",
            "1到 1 的整數和為 1\n",
            "1到 2 的整數和為 3\n",
            "1到 3 的整數和為 6\n",
            "1到 4 的整數和為 10\n",
            "1到 5 的整數和為 15\n",
            "1到 6 的整數和為 21\n",
            "1到 7 的整數和為 28\n",
            "1到 8 的整數和為 36\n",
            "1到 9 的整數和為 45\n",
            "1到 10 的整數和為 55\n",
            "1到 11 的整數和為 66\n",
            "1到 12 的整數和為 78\n",
            "1到 13 的整數和為 91\n",
            "1到 14 的整數和為 105\n",
            "1到 15 的整數和為 120\n",
            "1到 16 的整數和為 136\n",
            "1到 17 的整數和為 153\n",
            "1到 18 的整數和為 171\n",
            "1到 19 的整數和為 190\n",
            "1到 20 的整數和為 210\n",
            "1到 21 的整數和為 231\n",
            "1到 22 的整數和為 253\n",
            "1到 23 的整數和為 276\n",
            "1到 24 的整數和為 300\n",
            "1到 25 的整數和為 325\n",
            "1到 26 的整數和為 351\n",
            "1到 27 的整數和為 378\n",
            "1到 28 的整數和為 406\n",
            "1到 29 的整數和為 435\n",
            "1到 30 的整數和為 465\n",
            "1到 31 的整數和為 496\n",
            "1到 32 的整數和為 528\n",
            "1到 33 的整數和為 561\n",
            "1到 34 的整數和為 595\n",
            "1到 35 的整數和為 630\n",
            "1到 36 的整數和為 666\n",
            "1到 37 的整數和為 703\n",
            "1到 38 的整數和為 741\n",
            "1到 39 的整數和為 780\n",
            "1到 40 的整數和為 820\n",
            "1到 41 的整數和為 861\n",
            "1到 42 的整數和為 903\n",
            "1到 43 的整數和為 946\n",
            "1到 44 的整數和為 990\n",
            "1到 45 的整數和為 1035\n",
            "1到 46 的整數和為 1081\n",
            "1到 47 的整數和為 1128\n",
            "1到 48 的整數和為 1176\n",
            "1到 49 的整數和為 1225\n",
            "1到 50 的整數和為 1275\n"
          ]
        }
      ]
    },
    {
      "cell_type": "code",
      "source": [
        "for j in range(1,5):\n",
        "  print(j)\n",
        "  for i in range(1,3):\n",
        "    k = i * j\n",
        "    print(j,\"*\",i,\"=\",k)"
      ],
      "metadata": {
        "colab": {
          "base_uri": "https://localhost:8080/"
        },
        "id": "Y1vg8bnGMAIX",
        "outputId": "e02e4e66-8f0e-41e5-9e9c-26b507f34f81"
      },
      "execution_count": 30,
      "outputs": [
        {
          "output_type": "stream",
          "name": "stdout",
          "text": [
            "1\n",
            "1 * 1 = 1\n",
            "1 * 2 = 2\n",
            "2\n",
            "2 * 1 = 2\n",
            "2 * 2 = 4\n",
            "3\n",
            "3 * 1 = 3\n",
            "3 * 2 = 6\n",
            "4\n",
            "4 * 1 = 4\n",
            "4 * 2 = 8\n"
          ]
        }
      ]
    },
    {
      "cell_type": "code",
      "source": [
        "for j in range(1,6):\n",
        "  print(j)\n",
        "  for i in range(1,3):\n",
        "    k = i * j\n",
        "    print(j,\"*\",i,\"=\",k)"
      ],
      "metadata": {
        "colab": {
          "base_uri": "https://localhost:8080/"
        },
        "id": "LwnlFCTGNQG9",
        "outputId": "6b50d5bc-0929-4919-c56e-d2642fc63284"
      },
      "execution_count": 16,
      "outputs": [
        {
          "output_type": "stream",
          "name": "stdout",
          "text": [
            "1\n",
            "1 * 1 = 1\n",
            "1 * 2 = 2\n",
            "2\n",
            "2 * 1 = 2\n",
            "2 * 2 = 4\n",
            "3\n",
            "3 * 1 = 3\n",
            "3 * 2 = 6\n",
            "4\n",
            "4 * 1 = 4\n",
            "4 * 2 = 8\n",
            "5\n",
            "5 * 1 = 5\n",
            "5 * 2 = 10\n"
          ]
        }
      ]
    },
    {
      "cell_type": "code",
      "source": [
        "for j in range(1,10):\n",
        "  for i in range(1,10):\n",
        "    k = i * j\n",
        "    print(f\"{i}*{j}={i*j}\",end = \"\\t\")\n",
        "  print()"
      ],
      "metadata": {
        "colab": {
          "base_uri": "https://localhost:8080/"
        },
        "id": "35_mxInpNrS2",
        "outputId": "d98339bd-a699-4f7a-811e-078b1a52acd3"
      },
      "execution_count": 28,
      "outputs": [
        {
          "output_type": "stream",
          "name": "stdout",
          "text": [
            "1*1=1\t2*1=2\t3*1=3\t4*1=4\t5*1=5\t6*1=6\t7*1=7\t8*1=8\t9*1=9\t\n",
            "1*2=2\t2*2=4\t3*2=6\t4*2=8\t5*2=10\t6*2=12\t7*2=14\t8*2=16\t9*2=18\t\n",
            "1*3=3\t2*3=6\t3*3=9\t4*3=12\t5*3=15\t6*3=18\t7*3=21\t8*3=24\t9*3=27\t\n",
            "1*4=4\t2*4=8\t3*4=12\t4*4=16\t5*4=20\t6*4=24\t7*4=28\t8*4=32\t9*4=36\t\n",
            "1*5=5\t2*5=10\t3*5=15\t4*5=20\t5*5=25\t6*5=30\t7*5=35\t8*5=40\t9*5=45\t\n",
            "1*6=6\t2*6=12\t3*6=18\t4*6=24\t5*6=30\t6*6=36\t7*6=42\t8*6=48\t9*6=54\t\n",
            "1*7=7\t2*7=14\t3*7=21\t4*7=28\t5*7=35\t6*7=42\t7*7=49\t8*7=56\t9*7=63\t\n",
            "1*8=8\t2*8=16\t3*8=24\t4*8=32\t5*8=40\t6*8=48\t7*8=56\t8*8=64\t9*8=72\t\n",
            "1*9=9\t2*9=18\t3*9=27\t4*9=36\t5*9=45\t6*9=54\t7*9=63\t8*9=72\t9*9=81\t\n"
          ]
        }
      ]
    },
    {
      "cell_type": "code",
      "source": [
        "for i in range(1,5):\n",
        "  if(i==4):\n",
        "    break\n",
        "  print(i,end= \" \")"
      ],
      "metadata": {
        "colab": {
          "base_uri": "https://localhost:8080/"
        },
        "id": "MzvbbIvIOaqF",
        "outputId": "06640b5a-338e-4e0b-9fe7-33c89e9ca56c"
      },
      "execution_count": 24,
      "outputs": [
        {
          "output_type": "stream",
          "name": "stdout",
          "text": [
            "1 2 3 "
          ]
        }
      ]
    },
    {
      "cell_type": "code",
      "source": [
        "count = 0\n",
        "for string in '測試看看!':\n",
        "  count+=1\n",
        "  if string == '看':\n",
        "    break\n",
        "  print(string)\n",
        "print('迴圈結束')\n",
        "print('迴圈執行了 %d 次' %count)"
      ],
      "metadata": {
        "colab": {
          "base_uri": "https://localhost:8080/"
        },
        "id": "_3BeygLTHQuy",
        "outputId": "57d252d5-24cf-4a8d-b846-6d0b435462c0"
      },
      "execution_count": 29,
      "outputs": [
        {
          "output_type": "stream",
          "name": "stdout",
          "text": [
            "測\n",
            "試\n",
            "迴圈結束\n",
            "迴圈執行了 3 次\n"
          ]
        }
      ]
    },
    {
      "cell_type": "code",
      "source": [
        "count = 0\n",
        "for string in 'Lambojini!':\n",
        "  count+=1\n",
        "  if string == 'i':\n",
        "    break\n",
        "  print(string)\n",
        "print('迴圈結束')\n",
        "print('迴圈執行了 %d 次' %count)"
      ],
      "metadata": {
        "colab": {
          "base_uri": "https://localhost:8080/"
        },
        "id": "kNFuooWpRP4l",
        "outputId": "e477c398-e698-45ac-957e-12626b13d5b1"
      },
      "execution_count": 27,
      "outputs": [
        {
          "output_type": "stream",
          "name": "stdout",
          "text": [
            "L\n",
            "a\n",
            "m\n",
            "b\n",
            "o\n",
            "j\n",
            "迴圈結束\n",
            "迴圈執行了 7 次\n"
          ]
        }
      ]
    },
    {
      "cell_type": "code",
      "source": [
        "a = int(input(\"請輸入 a 的值:\"))\n",
        "b = int(input(\"請輸入 b 的值:\"))\n",
        "if a > b:\n",
        "  x = a\n",
        "else:\n",
        "  x = b\n",
        "y = (a+1) * (b+1)\n",
        "for z in range(x,y):\n",
        "  if z % a == 0 and z % b == 0:\n",
        "    print(a,\"和\",b,\"的最小公倍數=\",z)\n",
        "    break"
      ],
      "metadata": {
        "colab": {
          "base_uri": "https://localhost:8080/"
        },
        "id": "611WvWJiRmU0",
        "outputId": "71848746-c792-4299-bda9-5fbe1909deb5"
      },
      "execution_count": 56,
      "outputs": [
        {
          "output_type": "stream",
          "name": "stdout",
          "text": [
            "請輸入 a 的值:4\n",
            "請輸入 b 的值:6\n",
            "4 和 6 的最小公倍數= 12\n"
          ]
        }
      ]
    },
    {
      "cell_type": "code",
      "source": [
        "a = int(input(\"請輸入 a 的值:\"))\n",
        "for n in range(1,a+1):\n",
        "  if n % 5 == 0:\n",
        "    continue\n",
        "  else:\n",
        "    print(n,end = \" \")"
      ],
      "metadata": {
        "colab": {
          "base_uri": "https://localhost:8080/"
        },
        "id": "SUvWCT7yXnVi",
        "outputId": "f93a484f-988c-48fa-8fb2-422bc7c8dec3"
      },
      "execution_count": 72,
      "outputs": [
        {
          "output_type": "stream",
          "name": "stdout",
          "text": [
            "請輸入 a 的值:12\n",
            "1 2 3 4 6 7 8 9 11 12 "
          ]
        }
      ]
    }
  ]
}